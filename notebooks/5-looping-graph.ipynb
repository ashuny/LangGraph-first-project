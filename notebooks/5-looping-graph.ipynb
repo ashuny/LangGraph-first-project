{
 "cells": [
  {
   "cell_type": "code",
   "execution_count": null,
   "id": "957accfa",
   "metadata": {},
   "outputs": [],
   "source": [
    "from typing import TypedDict, List, Dict\n",
    "from langgraph.graph import StateGraph, END\n",
    "import random"
   ]
  },
  {
   "cell_type": "code",
   "execution_count": null,
   "id": "1ad40fbb",
   "metadata": {},
   "outputs": [],
   "source": [
    "class AgentState(TypedDict):\n",
    "    name: str\n",
    "    number: list[int]\n",
    "    counter: int\n",
    "    "
   ]
  },
  {
   "cell_type": "code",
   "execution_count": null,
   "id": "79e4006a",
   "metadata": {},
   "outputs": [],
   "source": [
    "def greeting_node(state: AgentState) -> AgentState:\n",
    "    \"\"\"This node will greet the user\"\"\"\n",
    "    \n",
    "    state['name'] = f\"Hello there, {state['name']}\"\n",
    "    state['counter'] = 0\n",
    "    return state\n",
    "\n",
    "def random_node(state: AgentState) -> AgentState:\n",
    "    \"\"\"This node will generate a random number from 0 to 10\"\"\"\n",
    "\n",
    "    state['number'].append(random.randint(0, 10))\n",
    "    state['counter'] += 1\n",
    "    return state\n",
    "\n",
    "def should_continue(state: AgentState) -> AgentState:\n",
    "    \"\"\"This node will decide if the loop should continue\"\"\"\n",
    "\n",
    "    if state['counter'] < 5:\n",
    "        print('ENTERING LOOP', state['counter'])\n",
    "        return 'loop'  \n",
    "    else:\n",
    "        return 'exit'\n"
   ]
  },
  {
   "cell_type": "code",
   "execution_count": null,
   "id": "d4894253",
   "metadata": {},
   "outputs": [],
   "source": [
    "graph = StateGraph(AgentState)\n",
    "\n",
    "graph.add_node(\"greeting\", greeting_node)\n",
    "graph.add_node(\"random\", random_node)\n",
    "\n",
    "graph.add_edge(\"greeting\", \"random\")\n",
    "\n",
    "graph.add_conditional_edges(\n",
    "    'random',\n",
    "    should_continue,\n",
    "    {\n",
    "        'loop': 'random',\n",
    "        'exit': END\n",
    "    }\n",
    ")\n",
    "\n",
    "app = graph.compile()\n",
    "\n",
    "result = app.invoke({\"name\": \"Shunyu\", \"number\": [], \"counter\": 0})"
   ]
  }
 ],
 "metadata": {
  "language_info": {
   "name": "python"
  }
 },
 "nbformat": 4,
 "nbformat_minor": 5
}
