{
 "cells": [
  {
   "cell_type": "code",
   "execution_count": null,
   "id": "68cb1b24",
   "metadata": {},
   "outputs": [],
   "source": [
    "from typing import TypedDict, List\n",
    "from langgraph.graph import StateGraph\n",
    "import math\n",
    "\n",
    "class AgentState(TypedDict):\n",
    "    integers: List[int]\n",
    "    name: str\n",
    "    operation: str\n",
    "    result: int\n",
    "    \n",
    "    \n",
    "def process_values(state: AgentState) -> AgentState:\n",
    "    \"\"\"This function handles multiple different inputs\"\"\"\n",
    "    if state['operation'] == '+':\n",
    "        state['result'] = sum(state['integers'])\n",
    "    elif state['operation'] == '*':\n",
    "        state['result'] = math.prod(state['integers'])\n",
    "    else:\n",
    "        raise ValueError(f\"Invalid operation: {state['operation']}\")\n",
    "\n",
    "    return state\n",
    "\n",
    "graph = StateGraph(AgentState)\n",
    "graph.add_node(\"processor\", process_values)\n",
    "graph.set_entry_point(\"processor\")\n",
    "graph.set_finish_point(\"processor\")\n",
    "\n",
    "app = graph.compile()"
   ]
  },
  {
   "cell_type": "code",
   "execution_count": null,
   "id": "a706194e",
   "metadata": {},
   "outputs": [],
   "source": [
    "from IPython.display import Image, display\n",
    "display(Image(app.get_graph().draw_mermaid_png()))"
   ]
  },
  {
   "cell_type": "code",
   "execution_count": null,
   "id": "bcc5fa49",
   "metadata": {},
   "outputs": [],
   "source": []
  }
 ],
 "metadata": {
  "language_info": {
   "name": "python"
  }
 },
 "nbformat": 4,
 "nbformat_minor": 5
}
